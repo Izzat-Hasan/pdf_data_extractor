{
 "cells": [
  {
   "cell_type": "code",
   "execution_count": 1,
   "metadata": {},
   "outputs": [],
   "source": [
    "#Author: Izzat Hasan \n",
    "#project: extracting data from a pdf file and populating it into an excel sheet\n",
    "#what do I want to extract? (company name, 2020 YTD, 2021 YTD, YTD Growth % , 2020 FY, Estimated 2021 YTD Annualized, EstimatedYOYGrowth)"
   ]
  },
  {
   "cell_type": "code",
   "execution_count": 2,
   "metadata": {},
   "outputs": [],
   "source": [
    "import re\n",
    "import os\n",
    "import PyPDF2\n",
    "import glob\n",
    "import pdfplumber\n",
    "import pandas as pd\n",
    "import glob\n",
    "from collections import namedtuple\n"
   ]
  },
  {
   "cell_type": "code",
   "execution_count": 3,
   "metadata": {},
   "outputs": [],
   "source": [
    "#names of titles must be pythonic (can't start the variable name with an integer)\n",
    "Line = namedtuple('Line', 'company_name YTD_2020 YTD_2021 YTD_Growth FY_2020 Estimated_2021_YTD Estimated_YOY')"
   ]
  },
  {
   "cell_type": "code",
   "execution_count": 4,
   "metadata": {},
   "outputs": [],
   "source": [
    "#grabs the name of the company\n",
    "#works by selecting everything after 'local chain name'\n",
    "company_re = re.compile(r'(?m)(?<=\\bLocal Chain Name).*$')\n"
   ]
  },
  {
   "cell_type": "code",
   "execution_count": 5,
   "metadata": {},
   "outputs": [],
   "source": [
    "#testing to see if the search works\n",
    "#company_re.search('Local Chain Name ALAMEDA ELECTRIC CHAIN USA')\n",
    "#test passed!"
   ]
  },
  {
   "cell_type": "code",
   "execution_count": 6,
   "metadata": {},
   "outputs": [],
   "source": [
    "#opening pdf file \n",
    "lines =[]\n",
    "directory = 'C:\\\\Users\\\\izzat\\\\pdf_converter\\\\' #change this to the directory of where the pdfs are\n",
    "\n",
    "for file in os.listdir(directory):\n",
    "    if not file.endswith(\".pdf\"): #reads in everything with .pdf \n",
    "        continue\n",
    "    \n",
    "    with open(os.path.join(directory,file), 'rb') as pdfFileObj:\n",
    "        pdfReader = PyPDF2.PdfFileReader(pdfFileObj)\n",
    "        pageObj = pdfReader.getPage(0) #only reads the first page of the pdf (only need data from there)\n",
    "        text = pageObj.extract_text()#extracting the text\n",
    "       \n",
    "    for line in text.split('\\n'):\n",
    "            comp = company_re.search(line) #calls the regex statment to search for company name\n",
    "            if comp:\n",
    "                company_name = comp.group()\n",
    "\n",
    "\n",
    "            elif line.startswith('$'): #looks for every liine that starts with \"$\"\n",
    "                numbers = line.split()\n",
    "                items = line.split()\n",
    "                lines.append(Line(company_name,*items)) \n",
    "                "
   ]
  },
  {
   "cell_type": "code",
   "execution_count": 7,
   "metadata": {},
   "outputs": [
    {
     "data": {
      "text/html": [
       "<div>\n",
       "<style scoped>\n",
       "    .dataframe tbody tr th:only-of-type {\n",
       "        vertical-align: middle;\n",
       "    }\n",
       "\n",
       "    .dataframe tbody tr th {\n",
       "        vertical-align: top;\n",
       "    }\n",
       "\n",
       "    .dataframe thead th {\n",
       "        text-align: right;\n",
       "    }\n",
       "</style>\n",
       "<table border=\"1\" class=\"dataframe\">\n",
       "  <thead>\n",
       "    <tr style=\"text-align: right;\">\n",
       "      <th></th>\n",
       "      <th>company_name</th>\n",
       "      <th>YTD_2020</th>\n",
       "      <th>YTD_2021</th>\n",
       "      <th>YTD_Growth</th>\n",
       "      <th>FY_2020</th>\n",
       "      <th>Estimated_2021_YTD</th>\n",
       "      <th>Estimated_YOY</th>\n",
       "    </tr>\n",
       "  </thead>\n",
       "  <tbody>\n",
       "    <tr>\n",
       "      <th>0</th>\n",
       "      <td>ALAMEDA ELECTRIC CHAIN USA</td>\n",
       "      <td>$119,736</td>\n",
       "      <td>$121,060</td>\n",
       "      <td>1.11%</td>\n",
       "      <td>$168,472</td>\n",
       "      <td>$179,622</td>\n",
       "      <td>6.6%</td>\n",
       "    </tr>\n",
       "    <tr>\n",
       "      <th>1</th>\n",
       "      <td>ALAMEDA ELECTRIC CHAIN USA</td>\n",
       "      <td>$119,736</td>\n",
       "      <td>$121,060</td>\n",
       "      <td>1.11%</td>\n",
       "      <td>$168,472</td>\n",
       "      <td>$179,622</td>\n",
       "      <td>6.6%</td>\n",
       "    </tr>\n",
       "    <tr>\n",
       "      <th>2</th>\n",
       "      <td>ALAMEDA ELECTRIC CHAIN USA</td>\n",
       "      <td>$119,736</td>\n",
       "      <td>$121,060</td>\n",
       "      <td>1.11%</td>\n",
       "      <td>$168,472</td>\n",
       "      <td>$179,622</td>\n",
       "      <td>6.6%</td>\n",
       "    </tr>\n",
       "  </tbody>\n",
       "</table>\n",
       "</div>"
      ],
      "text/plain": [
       "                  company_name  YTD_2020  YTD_2021 YTD_Growth   FY_2020  \\\n",
       "0   ALAMEDA ELECTRIC CHAIN USA  $119,736  $121,060      1.11%  $168,472   \n",
       "1   ALAMEDA ELECTRIC CHAIN USA  $119,736  $121,060      1.11%  $168,472   \n",
       "2   ALAMEDA ELECTRIC CHAIN USA  $119,736  $121,060      1.11%  $168,472   \n",
       "\n",
       "  Estimated_2021_YTD Estimated_YOY  \n",
       "0           $179,622          6.6%  \n",
       "1           $179,622          6.6%  \n",
       "2           $179,622          6.6%  "
      ]
     },
     "execution_count": 7,
     "metadata": {},
     "output_type": "execute_result"
    }
   ],
   "source": [
    "df = pd.DataFrame(lines)\n",
    "df.head()"
   ]
  },
  {
   "cell_type": "code",
   "execution_count": 8,
   "metadata": {},
   "outputs": [],
   "source": [
    "df.to_csv('invoices.csv', index=False) #sends to .csv file"
   ]
  }
 ],
 "metadata": {
  "kernelspec": {
   "display_name": "Python 3 (ipykernel)",
   "language": "python",
   "name": "python3"
  },
  "language_info": {
   "codemirror_mode": {
    "name": "ipython",
    "version": 3
   },
   "file_extension": ".py",
   "mimetype": "text/x-python",
   "name": "python",
   "nbconvert_exporter": "python",
   "pygments_lexer": "ipython3",
   "version": "3.9.12"
  }
 },
 "nbformat": 4,
 "nbformat_minor": 4
}
